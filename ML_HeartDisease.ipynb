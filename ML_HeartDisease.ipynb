{
 "cells": [
  {
   "cell_type": "markdown",
   "id": "ffe44327",
   "metadata": {
    "id": "ffe44327"
   },
   "source": [
    "# Common instructions\n",
    "\n",
    "- Aim to attempt all the mandatory questions (marked with a *) in the problem set. \n",
    "\n",
    "\n",
    "- Only attempt optional question after you have attempted all the mandatory questions. \n",
    "\n",
    "\n",
    "- More credit will be given if you have successfully attempted all the mandatory questions, even if you do not attempt a single optional question, as opposed to missing even one mandatory question while attempting all the optional questions.\n",
    "\n",
    "\n",
    "- With the above caveat, attempt as many questions as possible within the time period. Partially attempted questions will get partial credit.\n",
    "\n",
    "\n",
    "- Normally, you should work through the problem set in ascending order (Q1 -> Q4).\n",
    "\n",
    "\n",
    "- Clean, labeled plots and clear data interpretation will boost your score. So too, will the use of functions, meaningful variable names, and readable code.\n",
    "\n",
    "\n",
    "- You have a maximum of 2 days to work on the assignment. We will not consider assignments submitted after the deadline. You are free to search the internet, but are not to discuss with others in any way or form, in pain of immediate disqualification.\n",
    "\n",
    "\n",
    "- Report the websites used to obtain help. Before the deadline, create a single .zip file with all your code submit it in the submission link provided to you in the email. DO NOT include data in your zip file. \n",
    "\n",
    "\n",
    "- You can use any programming language of your choice to solve all or part of the questions, preferably notebooks like Jupyter Notebook, Google Colab etc. We should be able to execute your program(s) to generate the required data and plots.\n",
    "\n",
    "\n",
    "- In case you are unable to complete some parts, clearly indicate how would you go about the task ? What steps would you try etc.\n"
   ]
  },
  {
   "cell_type": "markdown",
   "id": "f82f0100",
   "metadata": {
    "id": "f82f0100"
   },
   "source": [
    "# Input data\n",
    "\n",
    "- The TSV file `SampleData.tsv` has the following columns\n",
    "\n",
    "    - <b>Sample</b>: Sample IDs (S01, S02, S03...)\n",
    "    - <b>Treatment</b>: Information on sample type \n",
    "    \n",
    "        - <i>HF+</i>: Blood plasma samples collected from coronary disease patients post major surgery who had a heart failure within 3 years of surgery\n",
    "        - <i>HF-</i>: Blood plasma samples collected from coronary disease patients post major surgery who recovered post surgery without heart failure\n",
    "        - <i>HVOL</i>: Blood plasma samples collected from individuals without any discernable coronary disease\n",
    "        \n",
    "        \n",
    "    \n",
    "- The gzipped file `GSE208194_RawTPM.csv.gz` contains gene expression information for the sample mentioned in `SampleData.tsv` where the file structure looks like\n",
    "\n",
    "ENSEMBL ID        |S01      |S02      |S03      |S04\n",
    ":-----------------|:--------|:--------|:--------|:--------\n",
    "ENSG00000000419.12|2.398878 |12.157726|1.40211  |7.667875\n",
    "ENSG00000000938.13|3.324077 |13.971038|1.917631 |10.225812\n",
    "ENSG00000001629.10|12.037059|1.453811 |12.596614|15.799738\n",
    "ENSG00000001631.15|1.287932 |5.842868 |1.412257 |1.526812\n",
    "\n",
    "Where each row is a feature/gene (n=4150) and each column is a sample where the features are measured.\n"
   ]
  },
  {
   "cell_type": "markdown",
   "id": "3f2b4ab9",
   "metadata": {},
   "source": [
    "# Feature filter*\n",
    "\n",
    "- Remove genes/features with very low expression values (< 1) in 70% of samples (even if they are good features they cannot be used for diagnositics)\n",
    "- Remove a member of feature pairs which are highly correlated\n",
    "- Provide the statistics with respect to the removals"
   ]
  },
  {
   "cell_type": "code",
   "execution_count": 74,
   "id": "81406851",
   "metadata": {},
   "outputs": [],
   "source": [
    "# Place your code here\n",
    "import numpy as np\n",
    "import pandas as pd\n",
    "\n",
    "sample_path = 'SampleData.tsv'\n",
    "dfSample = pd.read_table(sample_path,index_col=0)"
   ]
  },
  {
   "cell_type": "code",
   "execution_count": 75,
   "id": "4f22fccf",
   "metadata": {},
   "outputs": [],
   "source": [
    "genome_path = './GSE208194_RawTPM.csv'\n",
    "df = pd.read_csv(genome_path,index_col=0)"
   ]
  },
  {
   "cell_type": "code",
   "execution_count": 76,
   "id": "e4e65e50",
   "metadata": {},
   "outputs": [
    {
     "data": {
      "text/plain": [
       "Index(['S01', 'S02', 'S03', 'S04', 'S05', 'S06', 'S07', 'S08', 'S09', 'S10',\n",
       "       'S11', 'S12', 'S13', 'S14', 'S15', 'S16', 'S17', 'S18', 'S19', 'S20',\n",
       "       'S21', 'S22', 'S23', 'S24', 'S26', 'S27', 'S28', 'S29', 'S30', 'S31',\n",
       "       'S32', 'S33', 'S34', 'S35', 'S36', 'S37', 'S38', 'S39', 'S40', 'S41',\n",
       "       'S42', 'S44', 'S45', 'S46', 'S47', 'S48', 'S49', 'S50', 'S51', 'S52',\n",
       "       'S53', 'S54', 'S55', 'S56', 'S57', 'S58', 'S59', 'S60', 'S61', 'S62',\n",
       "       'S63', 'S64', 'S65', 'S66', 'S67', 'S68', 'S69', 'S70', 'S71', 'S72',\n",
       "       'S73', 'S74', 'S75', 'S77', 'S78', 'S79', 'S80', 'S81', 'S82', 'S83',\n",
       "       'S84', 'S85', 'S86', 'S87', 'S88', 'S89', 'S90', 'S95', 'S96'],\n",
       "      dtype='object')"
      ]
     },
     "execution_count": 76,
     "metadata": {},
     "output_type": "execute_result"
    }
   ],
   "source": [
    "df.columns"
   ]
  },
  {
   "cell_type": "code",
   "execution_count": 77,
   "id": "2c8440dd",
   "metadata": {},
   "outputs": [],
   "source": [
    "for i in range(len(df)):\n",
    "    curr_count=0\n",
    "    for j in range(len(df.iloc[i])):\n",
    "        if df.iloc[i,j]<1.0:\n",
    "            curr_count+=1\n",
    "    if curr_count/89 >0.7:\n",
    "        print('True')\n",
    "        df.drop(index=i)"
   ]
  },
  {
   "cell_type": "code",
   "execution_count": 78,
   "id": "d52d2663",
   "metadata": {},
   "outputs": [
    {
     "name": "stdout",
     "output_type": "stream",
     "text": [
      "(4150, 89)\n"
     ]
    }
   ],
   "source": [
    "print(df.shape) #No features removed as no feature has more than 70% values less than 1.0"
   ]
  },
  {
   "cell_type": "code",
   "execution_count": 79,
   "id": "cc269588",
   "metadata": {},
   "outputs": [],
   "source": [
    "df = df.transpose()\n",
    "\n",
    "#Calculating Correlation Matrix\n",
    "corr = df.corr().abs()\n",
    "\n",
    "upper = corr.where(np.triu(np.ones(corr.shape),k=1).astype(bool))\n",
    "\n",
    "drop_cols = [col for col in upper.columns if any(upper[col]>0.95)]\n",
    "df.drop(drop_cols,axis=1,inplace=True)\n"
   ]
  },
  {
   "cell_type": "code",
   "execution_count": 80,
   "id": "82de9ec4",
   "metadata": {},
   "outputs": [
    {
     "data": {
      "text/plain": [
       "(89, 3986)"
      ]
     },
     "execution_count": 80,
     "metadata": {},
     "output_type": "execute_result"
    }
   ],
   "source": [
    "df.shape # 164 features were dropped as they were highly related to another feature"
   ]
  },
  {
   "cell_type": "markdown",
   "id": "b5f019fa",
   "metadata": {},
   "source": [
    "1. We can see that we did not find any feature which has more than 70% of its value measured as less than 70%\n",
    "2. Total of 164 pairs of features where found to be highly correlated. So these were dropped, leaving us with 3986 features."
   ]
  },
  {
   "cell_type": "markdown",
   "id": "b4ebb19a",
   "metadata": {
    "id": "b4ebb19a"
   },
   "source": [
    "# Feature elimination*\n",
    "\n",
    "From the feature matrix `GSE208194_RawTPM.csv.gz`, split the samples into training and test and on the training set \n",
    "- using recursive feature elimination identify the optimal number of features out of the 4150, which can predict the status of a particular individual to be \n",
    "    - Having the likelihood of coronary disease which can lead to heart failure (HF+)\n",
    "    - Having the likelihood of coronary disease which may not lead to heart failure (HF-)\n",
    "    - Healthy indiviual (HVOL)\n",
    "    \n",
    "- Show the relative accuracy of the model as different number of features are used as a plot."
   ]
  },
  {
   "cell_type": "code",
   "execution_count": 81,
   "id": "5d4ae96e",
   "metadata": {
    "id": "5d4ae96e"
   },
   "outputs": [],
   "source": [
    "# Place your code here\n",
    "#Attempting to find Proper number of features for a moel using SVC\n",
    "from sklearn.svm import SVC \n",
    "\n",
    "\n",
    "#df = df.transpose() Uncomment for the first try\n",
    "\n",
    "df_merged=df.merge(dfSample,how='inner',left_index=True,right_index=True)\n",
    "df_merged_train = df[]"
   ]
  },
  {
   "cell_type": "code",
   "execution_count": 93,
   "id": "066525e6",
   "metadata": {},
   "outputs": [],
   "source": [
    "X = df_merged.drop(['treatment'],axis=1)\n",
    "X_train = X[0:75]\n",
    "X_test = X[75:]\n",
    "y = df_merged['treatment']\n",
    "y_train = y[0:75]\n",
    "y_test = y[75:]\n",
    "\n",
    "# visualizer = RFECV(SVC(kernel='linear',C=1))\n",
    "# visualizer.fit(X,y)\n",
    "# visualizer.show()\n",
    "\n"
   ]
  },
  {
   "cell_type": "code",
   "execution_count": 94,
   "id": "69218db2",
   "metadata": {},
   "outputs": [],
   "source": [
    "from sklearn.feature_selection import RFE\n",
    "\n",
    "rfe = RFE(estimator=SVC(kernel='linear',C=1))\n",
    "\n",
    "history = rfe.fit(X_train,y_train)"
   ]
  },
  {
   "cell_type": "code",
   "execution_count": 97,
   "id": "4d22abe3",
   "metadata": {},
   "outputs": [
    {
     "ename": "AttributeError",
     "evalue": "'RFE' object has no attribute 'show'",
     "output_type": "error",
     "traceback": [
      "\u001b[0;31m---------------------------------------------------------------------------\u001b[0m",
      "\u001b[0;31mAttributeError\u001b[0m                            Traceback (most recent call last)",
      "\u001b[1;32m/home/cds/Downloads/ML_HeartDisease/ML_HeartDisease.ipynb Cell 16\u001b[0m in \u001b[0;36m<cell line: 1>\u001b[0;34m()\u001b[0m\n\u001b[0;32m----> <a href='vscode-notebook-cell:/home/cds/Downloads/ML_HeartDisease/ML_HeartDisease.ipynb#X34sZmlsZQ%3D%3D?line=0'>1</a>\u001b[0m history\u001b[39m.\u001b[39;49mshow()\n",
      "\u001b[0;31mAttributeError\u001b[0m: 'RFE' object has no attribute 'show'"
     ]
    }
   ],
   "source": []
  },
  {
   "cell_type": "code",
   "execution_count": 96,
   "id": "0b341b40",
   "metadata": {},
   "outputs": [
    {
     "name": "stdout",
     "output_type": "stream",
     "text": [
      "Index(['ENSG00000001629.10', 'ENSG00000001631.15', 'ENSG00000002549.12',\n",
      "       'ENSG00000002586.20', 'ENSG00000003056.8', 'ENSG00000003402.20',\n",
      "       'ENSG00000003436.16', 'ENSG00000003756.17', 'ENSG00000004059.11',\n",
      "       'ENSG00000004700.16',\n",
      "       ...\n",
      "       'ENSG00000282508.2', 'ENSG00000283907.1', 'ENSG00000284770.2',\n",
      "       'ENSG00000284809.1', 'ENSG00000284959.2', 'ENSG00000285756.2',\n",
      "       'ENSG00000285774.2', 'ENSG00000285884.1', 'ENSG00000286171.1',\n",
      "       'ENSG00000286522.1'],\n",
      "      dtype='object', length=1993)\n"
     ]
    }
   ],
   "source": [
    "print(X_train.columns[rfe.support_])"
   ]
  },
  {
   "cell_type": "code",
   "execution_count": 123,
   "id": "90fe9f4f",
   "metadata": {},
   "outputs": [
    {
     "data": {
      "text/plain": [
       "RFECV(cv=5, estimator=SVC(C=1, kernel='linear'), min_features_to_select=50,\n",
       "      n_jobs=-1)"
      ]
     },
     "execution_count": 123,
     "metadata": {},
     "output_type": "execute_result"
    }
   ],
   "source": [
    "from sklearn.feature_selection  import RFECV\n",
    "\n",
    "rfecv = RFECV(estimator=SVC(kernel='linear',C=1),min_features_to_select=50,step=1,n_jobs = -1,cv=5)\n",
    "rfecv.fit(X_train,y_train)\n",
    "\n"
   ]
  },
  {
   "cell_type": "code",
   "execution_count": 135,
   "id": "9f29fa41",
   "metadata": {},
   "outputs": [
    {
     "data": {
      "image/png": "[encoded data removed]",
      "text/plain": [
       "<Figure size 576x396 with 1 Axes>"
      ]
     },
     "metadata": {},
     "output_type": "display_data"
    }
   ],
   "source": [
    "# print(X_train.columns[rfecv.support_])\n",
    "import matplotlib.pyplot as plt\n",
    "\n",
    "plt.plot(range(3937),rfecv.cv_results_['mean_test_score'])\n",
    "plt.xlabel(\"Number of features selected\")\n",
    "plt.ylabel(\"Cross Validation score\")\n",
    "plt.show()"
   ]
  },
  {
   "cell_type": "code",
   "execution_count": 139,
   "id": "f09ca58b",
   "metadata": {},
   "outputs": [
    {
     "name": "stdout",
     "output_type": "stream",
     "text": [
      "Index(['ENSG00000065978.19', 'ENSG00000067225.18', 'ENSG00000085276.19',\n",
      "       'ENSG00000087086.15', 'ENSG00000089335.21', 'ENSG00000092531.10',\n",
      "       'ENSG00000100461.18', 'ENSG00000101162.4', 'ENSG00000101972.18',\n",
      "       'ENSG00000103187.8', 'ENSG00000103769.10', 'ENSG00000104904.12',\n",
      "       'ENSG00000108654.15', 'ENSG00000108953.17', 'ENSG00000112977.15',\n",
      "       'ENSG00000113558.18', 'ENSG00000115652.14', 'ENSG00000122545.20',\n",
      "       'ENSG00000125952.20', 'ENSG00000128245.15', 'ENSG00000138449.10',\n",
      "       'ENSG00000142669.15', 'ENSG00000143546.10', 'ENSG00000147065.17',\n",
      "       'ENSG00000148908.15', 'ENSG00000149925.20', 'ENSG00000150681.10',\n",
      "       'ENSG00000156411.9', 'ENSG00000160014.17', 'ENSG00000163041.12',\n",
      "       'ENSG00000164924.18', 'ENSG00000167468.17', 'ENSG00000169020.10',\n",
      "       'ENSG00000169442.9', 'ENSG00000173889.16', 'ENSG00000173915.16',\n",
      "       'ENSG00000176783.15', 'ENSG00000188536.13', 'ENSG00000188846.14',\n",
      "       'ENSG00000198258.10', 'ENSG00000213462.5', 'ENSG00000225936.1',\n",
      "       'ENSG00000229117.9', 'ENSG00000233968.7', 'ENSG00000238201.1',\n",
      "       'ENSG00000245910.8', 'ENSG00000249307.7', 'ENSG00000253604.1',\n",
      "       'ENSG00000259001.3', 'ENSG00000284809.1'],\n",
      "      dtype='object')\n"
     ]
    }
   ],
   "source": [
    "print(X_train.columns[rfecv.support_])\n"
   ]
  },
  {
   "cell_type": "markdown",
   "id": "5bb0af3f",
   "metadata": {
    "id": "5bb0af3f"
   },
   "source": [
    "# Model building*\n",
    "\n",
    "With N optimal features identified, used a feature selection method of choice to select the top N features and build a multi-class classifier with cross-validation and report its accuracy and any other metric deemed suitable.\n"
   ]
  },
  {
   "cell_type": "code",
   "execution_count": null,
   "id": "8634f46c",
   "metadata": {
    "id": "8634f46c"
   },
   "outputs": [],
   "source": [
    "# Place your code here\n"
   ]
  },
  {
   "cell_type": "markdown",
   "id": "ba72d9b9",
   "metadata": {
    "id": "ba72d9b9"
   },
   "source": [
    "# Model evaluation*\n",
    "\n",
    "- Apply the model on the test set and report the accuracy and per class sensitivity i.e the total number of samples in a given class within the test set, and how many were predicted accurately.\n",
    "- Also report as a binary matrix how many samples were correctly identified as HF+/HF- and HVOL\n",
    "\n",
    "|    |      HF+/-      |  HVOL |\n",
    "|----------|:-------------:|------:|\n",
    "| HF+/- |  . | . |\n",
    "| HVOL |    .   | . |\n"
   ]
  },
  {
   "cell_type": "code",
   "execution_count": null,
   "id": "277533a0",
   "metadata": {
    "id": "277533a0"
   },
   "outputs": [],
   "source": [
    "# Place your code here"
   ]
  },
  {
   "cell_type": "markdown",
   "id": "46e6f4ce",
   "metadata": {},
   "source": [
    "# Biological significance of features\n",
    "\n",
    "- Take the top 5 features and search for their gene names in [Gene Cards](https://www.genecards.org/) with using the suffix for example:\n",
    "  ENSG00000000419.12 -> ENSG00000000419\t\n",
    "  \n",
    "- Take the gene names identified and search in [Pubmed](https://pubmed.ncbi.nlm.nih.gov/) as \n",
    "  \"Gene name\" AND \"coronary disease\"\n",
    "  \n",
    "- Report if anything of interest is found by reading the abstract of the top hits in pubmed."
   ]
  },
  {
   "cell_type": "code",
   "execution_count": null,
   "id": "8c1bf912",
   "metadata": {},
   "outputs": [],
   "source": []
  }
 ],
 "metadata": {
  "colab": {
   "name": "AssignmentMotifDiscovery.ipynb",
   "provenance": []
  },
  "kernelspec": {
   "display_name": "Python 3.9.7 ('MIG_Course')",
   "language": "python",
   "name": "python3"
  },
  "language_info": {
   "codemirror_mode": {
    "name": "ipython",
    "version": 3
   },
   "file_extension": ".py",
   "mimetype": "text/x-python",
   "name": "python",
   "nbconvert_exporter": "python",
   "pygments_lexer": "ipython3",
   "version": "3.9.7"
  },
  "toc": {
   "base_numbering": 1,
   "nav_menu": {},
   "number_sections": true,
   "sideBar": true,
   "skip_h1_title": false,
   "title_cell": "Table of Contents",
   "title_sidebar": "Contents",
   "toc_cell": false,
   "toc_position": {},
   "toc_section_display": true,
   "toc_window_display": false
  },
  "vscode": {
   "interpreter": {
    "hash": "e768c3d2be1459e742c3cfe2e3af5b3511a9cb09be73b8345b0a9986a662beb5"
   }
  }
 },
 "nbformat": 4,
 "nbformat_minor": 5
}

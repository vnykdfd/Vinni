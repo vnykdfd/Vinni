{
 "cells": [
  {
   "cell_type": "markdown",
   "id": "ffe44327",
   "metadata": {
    "id": "ffe44327"
   },
   "source": [
    "# Common instructions\n",
    "\n",
    "- Aim to attempt all the mandatory questions (marked with a *) in the problem set. \n",
    "\n",
    "\n",
    "- Only attempt optional question after you have attempted all the mandatory questions. \n",
    "\n",
    "\n",
    "- More credit will be given if you have successfully attempted all the mandatory questions, even if you do not attempt a single optional question, as opposed to missing even one mandatory question while attempting all the optional questions.\n",
    "\n",
    "\n",
    "- With the above caveat, attempt as many questions as possible within the time period. Partially attempted questions will get partial credit.\n",
    "\n",
    "\n",
    "- Normally, you should work through the problem set in ascending order (Q1 -> Q4).\n",
    "\n",
    "\n",
    "- Clean, labeled plots and clear data interpretation will boost your score. So too, will the use of functions, meaningful variable names, and readable code.\n",
    "\n",
    "\n",
    "- You have a maximum of 2 days to work on the assignment. We will not consider assignments submitted after the deadline. You are free to search the internet, but are not to discuss with others in any way or form, in pain of immediate disqualification.\n",
    "\n",
    "\n",
    "- Report the websites used to obtain help. Before the deadline, create a single .zip file with all your code submit it in the submission link provided to you in the email. DO NOT include data in your zip file. \n",
    "\n",
    "\n",
    "- You can use any programming language of your choice to solve all or part of the questions, preferably notebooks like Jupyter Notebook, Google Colab etc. We should be able to execute your program(s) to generate the required data and plots.\n",
    "\n",
    "\n",
    "- In case you are unable to complete some parts, clearly indicate how would you go about the task ? What steps would you try etc.\n"
   ]
  },
  {
   "cell_type": "markdown",
   "id": "f82f0100",
   "metadata": {
    "id": "f82f0100"
   },
   "source": [
    "# Input data\n",
    "\n",
    "- The TSV file `SampleData.tsv` has the following columns\n",
    "\n",
    "    - <b>Sample</b>: Sample IDs (S01, S02, S03...)\n",
    "    - <b>Treatment</b>: Information on sample type \n",
    "    \n",
    "        - <i>HF+</i>: Blood plasma samples collected from coronary disease patients post major surgery who had a heart failure within 3 years of surgery\n",
    "        - <i>HF-</i>: Blood plasma samples collected from coronary disease patients post major surgery who recovered post surgery without heart failure\n",
    "        - <i>HVOL</i>: Blood plasma samples collected from individuals without any discernable coronary disease\n",
    "        \n",
    "        \n",
    "    \n",
    "- The gzipped file `GSE208194_RawTPM.csv.gz` contains gene expression information for the sample mentioned in `SampleData.tsv` where the file structure looks like\n",
    "\n",
    "ENSEMBL ID        |S01      |S02      |S03      |S04\n",
    ":-----------------|:--------|:--------|:--------|:--------\n",
    "ENSG00000000419.12|2.398878 |12.157726|1.40211  |7.667875\n",
    "ENSG00000000938.13|3.324077 |13.971038|1.917631 |10.225812\n",
    "ENSG00000001629.10|12.037059|1.453811 |12.596614|15.799738\n",
    "ENSG00000001631.15|1.287932 |5.842868 |1.412257 |1.526812\n",
    "\n",
    "Where each row is a feature/gene (n=4150) and each column is a sample where the features are measured.\n"
   ]
  },
  {
   "cell_type": "markdown",
   "id": "3f2b4ab9",
   "metadata": {},
   "source": [
    "# Feature filter*\n",
    "\n",
    "- Remove genes/features with very low expression values (< 1) in 70% of samples (even if they are good features they cannot be used for diagnositics)\n",
    "- Remove a member of feature pairs which are highly correlated\n",
    "- Provide the statistics with respect to the removals"
   ]
  },
  {
   "cell_type": "code",
   "execution_count": 1,
   "id": "81406851",
   "metadata": {},
   "outputs": [],
   "source": [
    "# Place your code here\n",
    "import numpy as np\n",
    "import pandas as pd\n",
    "\n",
    "sample_path = 'SampleData.tsv'\n",
    "dfSample = pd.read_table(sample_path)"
   ]
  },
  {
   "cell_type": "code",
   "execution_count": 17,
   "id": "4f22fccf",
   "metadata": {},
   "outputs": [],
   "source": [
    "genome_path = './GSE208194_RawTPM.csv'\n",
    "df = pd.read_csv(genome_path,index_col=0)"
   ]
  },
  {
   "cell_type": "code",
   "execution_count": 12,
   "id": "2c8440dd",
   "metadata": {},
   "outputs": [],
   "source": [
    "for i in range(len(df)):\n",
    "    curr_count=0\n",
    "    for j in range(len(df.iloc[i])):\n",
    "        if df.iloc[i,j]<1.0:\n",
    "            curr_count+=1\n",
    "    if curr_count/89 >0.7:\n",
    "        print('True')\n",
    "        df.drop(index=i)"
   ]
  },
  {
   "cell_type": "code",
   "execution_count": 11,
   "id": "d52d2663",
   "metadata": {},
   "outputs": [
    {
     "name": "stdout",
     "output_type": "stream",
     "text": [
      "(4150, 89)\n"
     ]
    }
   ],
   "source": [
    "print(df.shape) #No features removed as no feature has more than 70% values less than 1.0"
   ]
  },
  {
   "cell_type": "code",
   "execution_count": 18,
   "id": "cc269588",
   "metadata": {},
   "outputs": [],
   "source": [
    "df = df.transpose()\n",
    "\n",
    "#Calculating correltation Matrix\n",
    "corr = df.corr().abs()\n",
    "\n",
    "upper = corr.where(np.triu(np.ones(corr.shape),k=1).astype(bool))\n",
    "\n",
    "drop_cols = [col for col in upper.columns if any(upper[col]>0.95)]\n",
    "df.drop(drop_cols,axis=1,inplace=True)\n"
   ]
  },
  {
   "cell_type": "code",
   "execution_count": 19,
   "id": "82de9ec4",
   "metadata": {},
   "outputs": [
    {
     "data": {
      "text/plain": [
       "(89, 3986)"
      ]
     },
     "execution_count": 19,
     "metadata": {},
     "output_type": "execute_result"
    }
   ],
   "source": [
    "df.shape # 164 features were dropped as they were highly related to another feature"
   ]
  },
  {
   "cell_type": "markdown",
   "id": "b5f019fa",
   "metadata": {},
   "source": [
    "1. We can see that we did not find any feature which has more than 70% of its value measured as less than 70%\n",
    "2. Total of 164 pairs of features where found to be highly correlated. So these were dropped, leaving us with 3986 features."
   ]
  },
  {
   "cell_type": "markdown",
   "id": "b4ebb19a",
   "metadata": {
    "id": "b4ebb19a"
   },
   "source": [
    "# Feature elimination*\n",
    "\n",
    "From the feature matrix `GSE208194_RawTPM.csv.gz`, split the samples into training and test and on the training set \n",
    "- using recursive feature elimination identify the optimal number of features out of the 4150, which can predict the status of a particular individual to be \n",
    "    - Having the likelihood of coronary disease which can lead to heart failure (HF+)\n",
    "    - Having the likelihood of coronary disease which may not lead to heart failure (HF-)\n",
    "    - Healthy indiviual (HVOL)\n",
    "    \n",
    "- Show the relative accuracy of the model as different number of features are used as a plot."
   ]
  },
  {
   "cell_type": "code",
   "execution_count": null,
   "id": "5d4ae96e",
   "metadata": {
    "id": "5d4ae96e"
   },
   "outputs": [],
   "source": [
    "# Place your code here"
   ]
  },
  {
   "cell_type": "markdown",
   "id": "5bb0af3f",
   "metadata": {
    "id": "5bb0af3f"
   },
   "source": [
    "# Model building*\n",
    "\n",
    "With N optimal features identified, used a feature selection method of choice to select the top N features and build a multi-class classifier with cross-validation and report its accuracy and any other metric deemed suitable.\n"
   ]
  },
  {
   "cell_type": "code",
   "execution_count": null,
   "id": "8634f46c",
   "metadata": {
    "id": "8634f46c"
   },
   "outputs": [],
   "source": [
    "# Place your code here"
   ]
  },
  {
   "cell_type": "markdown",
   "id": "ba72d9b9",
   "metadata": {
    "id": "ba72d9b9"
   },
   "source": [
    "# Model evaluation*\n",
    "\n",
    "- Apply the model on the test set and report the accuracy and per class sensitivity i.e the total number of samples in a given class within the test set, and how many were predicted accurately.\n",
    "- Also report as a binary matrix how many samples were correctly identified as HF+/HF- and HVOL\n",
    "\n",
    "|    |      HF+/-      |  HVOL |\n",
    "|----------|:-------------:|------:|\n",
    "| HF+/- |  . | . |\n",
    "| HVOL |    .   | . |\n"
   ]
  },
  {
   "cell_type": "code",
   "execution_count": null,
   "id": "277533a0",
   "metadata": {
    "id": "277533a0"
   },
   "outputs": [],
   "source": [
    "# Place your code here"
   ]
  },
  {
   "cell_type": "markdown",
   "id": "46e6f4ce",
   "metadata": {},
   "source": [
    "# Biological significance of features\n",
    "\n",
    "- Take the top 5 features and search for their gene names in [Gene Cards](https://www.genecards.org/) with using the suffix for example:\n",
    "  ENSG00000000419.12 -> ENSG00000000419\t\n",
    "  \n",
    "- Take the gene names identified and search in [Pubmed](https://pubmed.ncbi.nlm.nih.gov/) as \n",
    "  \"Gene name\" AND \"coronary disease\"\n",
    "  \n",
    "- Report if anything of interest is found by reading the abstract of the top hits in pubmed."
   ]
  },
  {
   "cell_type": "code",
   "execution_count": null,
   "id": "8c1bf912",
   "metadata": {},
   "outputs": [],
   "source": []
  }
 ],
 "metadata": {
  "colab": {
   "name": "AssignmentMotifDiscovery.ipynb",
   "provenance": []
  },
  "kernelspec": {
   "display_name": "Python 3.9.7 ('MIG_Course')",
   "language": "python",
   "name": "python3"
  },
  "language_info": {
   "codemirror_mode": {
    "name": "ipython",
    "version": 3
   },
   "file_extension": ".py",
   "mimetype": "text/x-python",
   "name": "python",
   "nbconvert_exporter": "python",
   "pygments_lexer": "ipython3",
   "version": "3.9.7"
  },
  "toc": {
   "base_numbering": 1,
   "nav_menu": {},
   "number_sections": true,
   "sideBar": true,
   "skip_h1_title": false,
   "title_cell": "Table of Contents",
   "title_sidebar": "Contents",
   "toc_cell": false,
   "toc_position": {},
   "toc_section_display": true,
   "toc_window_display": false
  },
  "vscode": {
   "interpreter": {
    "hash": "e768c3d2be1459e742c3cfe2e3af5b3511a9cb09be73b8345b0a9986a662beb5"
   }
  }
 },
 "nbformat": 4,
 "nbformat_minor": 5
}

{
 "cells": [
  {
   "cell_type": "markdown",
   "id": "ffe44327",
   "metadata": {
    "id": "ffe44327"
   },
   "source": [
    "# Common instructions\n",
    "\n",
    "- Aim to attempt all the mandatory questions (marked with a *) in the problem set. \n",
    "\n",
    "\n",
    "- Only attempt optional question after you have attempted all the mandatory questions. \n",
    "\n",
    "\n",
    "- More credit will be given if you have successfully attempted all the mandatory questions, even if you do not attempt a single optional question, as opposed to missing even one mandatory question while attempting all the optional questions.\n",
    "\n",
    "\n",
    "- With the above caveat, attempt as many questions as possible within the time period. Partially attempted questions will get partial credit.\n",
    "\n",
    "\n",
    "- Normally, you should work through the problem set in ascending order (Q1 -> Q4).\n",
    "\n",
    "\n",
    "- Clean, labeled plots and clear data interpretation will boost your score. So too, will the use of functions, meaningful variable names, and readable code.\n",
    "\n",
    "\n",
    "- You have a maximum of 2 days to work on the assignment. We will not consider assignments submitted after the deadline. You are free to search the internet, but are not to discuss with others in any way or form, in pain of immediate disqualification.\n",
    "\n",
    "\n",
    "- Report the websites used to obtain help. Before the deadline, create a single .zip file with all your code submit it in the submission link provided to you in the email. DO NOT include data in your zip file. \n",
    "\n",
    "\n",
    "- You can use any programming language of your choice to solve all or part of the questions, preferably notebooks like Jupyter Notebook, Google Colab etc. We should be able to execute your program(s) to generate the required data and plots.\n",
    "\n",
    "\n",
    "- In case you are unable to complete some parts, clearly indicate how would you go about the task ? What steps would you try etc.\n"
   ]
  },
  {
   "cell_type": "markdown",
   "id": "f82f0100",
   "metadata": {
    "id": "f82f0100"
   },
   "source": [
    "# Input data\n",
    "\n",
    "- The TSV file `SampleData.tsv` has the following columns\n",
    "\n",
    "    - <b>Sample</b>: Sample IDs (S01, S02, S03...)\n",
    "    - <b>Treatment</b>: Information on sample type \n",
    "    \n",
    "        - <i>HF+</i>: Blood plasma samples collected from coronary disease patients post major surgery who had a heart failure within 3 years of surgery\n",
    "        - <i>HF-</i>: Blood plasma samples collected from coronary disease patients post major surgery who recovered post surgery without heart failure\n",
    "        - <i>HVOL</i>: Blood plasma samples collected from individuals without any discernable coronary disease\n",
    "        \n",
    "        \n",
    "    \n",
    "- The gzipped file `GSE208194_RawTPM.csv.gz` contains gene expression information for the sample mentioned in `SampleData.tsv` where the file structure looks like\n",
    "\n",
    "ENSEMBL ID        |S01      |S02      |S03      |S04\n",
    ":-----------------|:--------|:--------|:--------|:--------\n",
    "ENSG00000000419.12|2.398878 |12.157726|1.40211  |7.667875\n",
    "ENSG00000000938.13|3.324077 |13.971038|1.917631 |10.225812\n",
    "ENSG00000001629.10|12.037059|1.453811 |12.596614|15.799738\n",
    "ENSG00000001631.15|1.287932 |5.842868 |1.412257 |1.526812\n",
    "\n",
    "Where each row is a feature/gene (n=4150) and each column is a sample where the features are measured.\n"
   ]
  },
  {
   "cell_type": "markdown",
   "id": "3f2b4ab9",
   "metadata": {},
   "source": [
    "# Feature filter*\n",
    "\n",
    "- Remove genes/features with very low expression values (< 1) in 70% of samples (even if they are good features they cannot be used for diagnositics)\n",
    "- Remove a member of feature pairs which are highly correlated\n",
    "- Provide the statistics with respect to the removals"
   ]
  },
  {
   "cell_type": "code",
   "execution_count": 74,
   "id": "81406851",
   "metadata": {},
   "outputs": [],
   "source": [
    "# Place your code here\n",
    "import numpy as np\n",
    "import pandas as pd\n",
    "\n",
    "sample_path = 'SampleData.tsv'\n",
    "dfSample = pd.read_table(sample_path,index_col=0)"
   ]
  },
  {
   "cell_type": "code",
   "execution_count": 75,
   "id": "4f22fccf",
   "metadata": {},
   "outputs": [],
   "source": [
    "genome_path = './GSE208194_RawTPM.csv'\n",
    "df = pd.read_csv(genome_path,index_col=0)"
   ]
  },
  {
   "cell_type": "code",
   "execution_count": 76,
   "id": "e4e65e50",
   "metadata": {},
   "outputs": [
    {
     "data": {
      "text/plain": [
       "Index(['S01', 'S02', 'S03', 'S04', 'S05', 'S06', 'S07', 'S08', 'S09', 'S10',\n",
       "       'S11', 'S12', 'S13', 'S14', 'S15', 'S16', 'S17', 'S18', 'S19', 'S20',\n",
       "       'S21', 'S22', 'S23', 'S24', 'S26', 'S27', 'S28', 'S29', 'S30', 'S31',\n",
       "       'S32', 'S33', 'S34', 'S35', 'S36', 'S37', 'S38', 'S39', 'S40', 'S41',\n",
       "       'S42', 'S44', 'S45', 'S46', 'S47', 'S48', 'S49', 'S50', 'S51', 'S52',\n",
       "       'S53', 'S54', 'S55', 'S56', 'S57', 'S58', 'S59', 'S60', 'S61', 'S62',\n",
       "       'S63', 'S64', 'S65', 'S66', 'S67', 'S68', 'S69', 'S70', 'S71', 'S72',\n",
       "       'S73', 'S74', 'S75', 'S77', 'S78', 'S79', 'S80', 'S81', 'S82', 'S83',\n",
       "       'S84', 'S85', 'S86', 'S87', 'S88', 'S89', 'S90', 'S95', 'S96'],\n",
       "      dtype='object')"
      ]
     },
     "execution_count": 76,
     "metadata": {},
     "output_type": "execute_result"
    }
   ],
   "source": [
    "df.columns"
   ]
  },
  {
   "cell_type": "code",
   "execution_count": 77,
   "id": "2c8440dd",
   "metadata": {},
   "outputs": [],
   "source": [
    "for i in range(len(df)):\n",
    "    curr_count=0\n",
    "    for j in range(len(df.iloc[i])):\n",
    "        if df.iloc[i,j]<1.0:\n",
    "            curr_count+=1\n",
    "    if curr_count/89 >0.7:\n",
    "        print('True')\n",
    "        df.drop(index=i)"
   ]
  },
  {
   "cell_type": "code",
   "execution_count": 78,
   "id": "d52d2663",
   "metadata": {},
   "outputs": [
    {
     "name": "stdout",
     "output_type": "stream",
     "text": [
      "(4150, 89)\n"
     ]
    }
   ],
   "source": [
    "print(df.shape) #No features removed as no feature has more than 70% values less than 1.0"
   ]
  },
  {
   "cell_type": "code",
   "execution_count": 79,
   "id": "cc269588",
   "metadata": {},
   "outputs": [],
   "source": [
    "df = df.transpose()\n",
    "\n",
    "#Calculating Correlation Matrix\n",
    "corr = df.corr().abs()\n",
    "\n",
    "upper = corr.where(np.triu(np.ones(corr.shape),k=1).astype(bool))\n",
    "\n",
    "drop_cols = [col for col in upper.columns if any(upper[col]>0.95)]\n",
    "df.drop(drop_cols,axis=1,inplace=True)\n"
   ]
  },
  {
   "cell_type": "code",
   "execution_count": 80,
   "id": "82de9ec4",
   "metadata": {},
   "outputs": [
    {
     "data": {
      "text/plain": [
       "(89, 3986)"
      ]
     },
     "execution_count": 80,
     "metadata": {},
     "output_type": "execute_result"
    }
   ],
   "source": [
    "df.shape # 164 features were dropped as they were highly related to another feature"
   ]
  },
  {
   "cell_type": "markdown",
   "id": "b5f019fa",
   "metadata": {},
   "source": [
    "1. We can see that we did not find any feature which has more than 70% of its value measured as less than 70%\n",
    "2. Total of 164 pairs of features where found to be highly correlated. So these were dropped, leaving us with 3986 features."
   ]
  },
  {
   "cell_type": "markdown",
   "id": "b4ebb19a",
   "metadata": {
    "id": "b4ebb19a"
   },
   "source": [
    "# Feature elimination*\n",
    "\n",
    "From the feature matrix `GSE208194_RawTPM.csv.gz`, split the samples into training and test and on the training set \n",
    "- using recursive feature elimination identify the optimal number of features out of the 4150, which can predict the status of a particular individual to be \n",
    "    - Having the likelihood of coronary disease which can lead to heart failure (HF+)\n",
    "    - Having the likelihood of coronary disease which may not lead to heart failure (HF-)\n",
    "    - Healthy indiviual (HVOL)\n",
    "    \n",
    "- Show the relative accuracy of the model as different number of features are used as a plot."
   ]
  },
  {
   "cell_type": "code",
   "execution_count": 81,
   "id": "5d4ae96e",
   "metadata": {
    "id": "5d4ae96e"
   },
   "outputs": [],
   "source": [
    "# Place your code here\n",
    "#Attempting to find Proper number of features for a moel using SVC\n",
    "from sklearn.svm import SVC \n",
    "\n",
    "\n",
    "#df = df.transpose() Uncomment for the first try\n",
    "\n",
    "df_merged=df.merge(dfSample,how='inner',left_index=True,right_index=True)\n",
    "df_merged_train = df[]"
   ]
  },
  {
   "cell_type": "code",
   "execution_count": 154,
   "id": "066525e6",
   "metadata": {},
   "outputs": [],
   "source": [
    "X = df_merged.drop(['treatment'],axis=1)\n",
    "from sklearn.model_selection import train_test_split\n",
    "y = df_merged['treatment']\n",
    "X_train,X_test,y_train,y_test = train_test_split(X,y,random_state=42)\n",
    "\n",
    "# X_train = X[0:75]\n",
    "# X_test = X[75:]\n",
    "\n",
    "# y_train = y[0:75]\n",
    "# y_test = y[75:]\n",
    "\n",
    "# visualizer = RFECV(SVC(kernel='linear',C=1))\n",
    "# visualizer.fit(X,y)\n",
    "# visualizer.show()\n",
    "\n"
   ]
  },
  {
   "cell_type": "code",
   "execution_count": 155,
   "id": "69218db2",
   "metadata": {},
   "outputs": [],
   "source": [
    "from sklearn.feature_selection import RFE\n",
    "\n",
    "rfe = RFE(estimator=SVC(kernel='linear',C=1))\n",
    "\n",
    "history = rfe.fit(X_train,y_train)"
   ]
  },
  {
   "cell_type": "code",
   "execution_count": 156,
   "id": "0b341b40",
   "metadata": {},
   "outputs": [
    {
     "name": "stdout",
     "output_type": "stream",
     "text": [
      "Index(['ENSG00000000938.13', 'ENSG00000001629.10', 'ENSG00000002549.12',\n",
      "       'ENSG00000002586.20', 'ENSG00000002834.18', 'ENSG00000003056.8',\n",
      "       'ENSG00000003402.20', 'ENSG00000003436.16', 'ENSG00000003756.17',\n",
      "       'ENSG00000004534.15',\n",
      "       ...\n",
      "       'ENSG00000282885.2', 'ENSG00000283633.1', 'ENSG00000283907.1',\n",
      "       'ENSG00000284809.1', 'ENSG00000285884.1', 'ENSG00000286021.2',\n",
      "       'ENSG00000286171.1', 'ENSG00000286522.1', 'ENSG00000287080.1',\n",
      "       'ENSG00000287825.1'],\n",
      "      dtype='object', length=1993)\n"
     ]
    }
   ],
   "source": [
    "print(X_train.columns[rfe.support_])"
   ]
  },
  {
   "cell_type": "code",
   "execution_count": 157,
   "id": "90fe9f4f",
   "metadata": {},
   "outputs": [
    {
     "data": {
      "text/plain": [
       "RFECV(cv=5, estimator=SVC(C=1, kernel='linear'), min_features_to_select=50,\n",
       "      n_jobs=-1)"
      ]
     },
     "execution_count": 157,
     "metadata": {},
     "output_type": "execute_result"
    }
   ],
   "source": [
    "from sklearn.feature_selection  import RFECV\n",
    "\n",
    "rfecv = RFECV(estimator=SVC(kernel='linear',C=1),min_features_to_select=50,step=1,n_jobs = -1,cv=5)\n",
    "rfecv.fit(X_train,y_train)\n",
    "\n"
   ]
  },
  {
   "cell_type": "code",
   "execution_count": 158,
   "id": "9f29fa41",
   "metadata": {},
   "outputs": [
    {
     "data": {
      "image/png": "[encoded data removed]",
      "text/plain": [
       "<Figure size 576x396 with 1 Axes>"
      ]
     },
     "metadata": {},
     "output_type": "display_data"
    }
   ],
   "source": [
    "# print(X_train.columns[rfecv.support_])\n",
    "import matplotlib.pyplot as plt\n",
    "\n",
    "plt.plot(range(3937),rfecv.cv_results_['mean_test_score'])\n",
    "plt.xlabel(\"Number of features selected\")\n",
    "plt.ylabel(\"Cross Validation score\")\n",
    "plt.show()"
   ]
  },
  {
   "cell_type": "code",
   "execution_count": 159,
   "id": "f09ca58b",
   "metadata": {},
   "outputs": [
    {
     "name": "stdout",
     "output_type": "stream",
     "text": [
      "Index(['ENSG00000002586.20', 'ENSG00000005249.13', 'ENSG00000005961.19',\n",
      "       'ENSG00000008952.17', 'ENSG00000008988.9', 'ENSG00000019582.15',\n",
      "       'ENSG00000034510.6', 'ENSG00000035403.17', 'ENSG00000049245.13',\n",
      "       'ENSG00000059758.8',\n",
      "       ...\n",
      "       'ENSG00000254584.2', 'ENSG00000259001.3', 'ENSG00000266412.5',\n",
      "       'ENSG00000268163.1', 'ENSG00000270103.3', 'ENSG00000271503.6',\n",
      "       'ENSG00000274383.1', 'ENSG00000278677.1', 'ENSG00000278828.1',\n",
      "       'ENSG00000283907.1'],\n",
      "      dtype='object', length=185)\n",
      "Number of optimal features are 185\n"
     ]
    }
   ],
   "source": [
    "print(X_train.columns[rfecv.support_])\n",
    "print('Number of optimal features are',len(X_train.columns[rfecv.support_]))\n"
   ]
  },
  {
   "cell_type": "markdown",
   "id": "5bb0af3f",
   "metadata": {
    "id": "5bb0af3f"
   },
   "source": [
    "# Model building*\n",
    "\n",
    "With N optimal features identified, used a feature selection method of choice to select the top N features and build a multi-class classifier with cross-validation and report its accuracy and any other metric deemed suitable.\n"
   ]
  },
  {
   "cell_type": "code",
   "execution_count": 190,
   "id": "8634f46c",
   "metadata": {
    "id": "8634f46c"
   },
   "outputs": [],
   "source": [
    "# Place your code here\n",
    "#Using the features selected by the rfecv method above to be used in an SVC classifier\n",
    "from sklearn.model_selection import cross_validate\n",
    "\n",
    "X_train_NFeatures = X_train[X_train.columns[rfecv.support_]]\n",
    "X_test_NFeatures = X_test[X_train.columns[rfecv.support_]]\n",
    "\n",
    "svc = SVC(C=5,kernel='rbf')\n",
    "cv_results = cross_validate(svc,X_train_NFeatures,y_train,cv=5,scoring=['balanced_accuracy','f1_macro'],return_train_score=True,return_estimator=True)\n",
    "#svc.fit(X_train_NFeatures,y_train)"
   ]
  },
  {
   "cell_type": "code",
   "execution_count": 191,
   "id": "7c88c43e",
   "metadata": {},
   "outputs": [
    {
     "data": {
      "text/plain": [
       "{'fit_time': array([0.00358462, 0.0018146 , 0.00157857, 0.0018611 , 0.00160527]),\n",
       " 'score_time': array([0.00320196, 0.00184107, 0.0020864 , 0.00184608, 0.00188112]),\n",
       " 'estimator': [SVC(C=5), SVC(C=5), SVC(C=5), SVC(C=5), SVC(C=5)],\n",
       " 'test_balanced_accuracy': array([0.7       , 0.6       , 0.7       , 0.75      , 0.83333333]),\n",
       " 'train_balanced_accuracy': array([0.84074074, 0.81944444, 0.79259259, 0.83157895, 0.75672515]),\n",
       " 'test_f1_macro': array([0.7       , 0.54545455, 0.67936508, 0.74603175, 0.82222222]),\n",
       " 'train_f1_macro': array([0.83735745, 0.8179198 , 0.79174122, 0.83308943, 0.75351377])}"
      ]
     },
     "execution_count": 191,
     "metadata": {},
     "output_type": "execute_result"
    }
   ],
   "source": [
    "cv_results"
   ]
  },
  {
   "cell_type": "markdown",
   "id": "ba72d9b9",
   "metadata": {
    "id": "ba72d9b9"
   },
   "source": [
    "# Model evaluation*\n",
    "\n",
    "- Apply the model on the test set and report the accuracy and per class sensitivity i.e the total number of samples in a given class within the test set, and how many were predicted accurately.\n",
    "- Also report as a binary matrix how many samples were correctly identified as HF+/HF- and HVOL\n",
    "\n",
    "|    |      HF+/-      |  HVOL |\n",
    "|----------|:-------------:|------:|\n",
    "| HF+/- |  17 | 0 |\n",
    "| HVOL |    0   | 6 |\n",
    "\n",
    "The above is the matrix where we consider HF+ and HF- to be the same"
   ]
  },
  {
   "cell_type": "code",
   "execution_count": 166,
   "id": "277533a0",
   "metadata": {
    "id": "277533a0"
   },
   "outputs": [
    {
     "name": "stdout",
     "output_type": "stream",
     "text": [
      "On training dataset\n",
      "              precision    recall  f1-score   support\n",
      "\n",
      "         HF+       0.75      0.47      0.58        19\n",
      "         HF-       0.70      0.83      0.76        23\n",
      "        HVOL       0.89      1.00      0.94        24\n",
      "\n",
      "    accuracy                           0.79        66\n",
      "   macro avg       0.78      0.77      0.76        66\n",
      "weighted avg       0.78      0.79      0.77        66\n",
      "\n",
      "On testing dataset\n",
      "              precision    recall  f1-score   support\n",
      "\n",
      "         HF+       0.50      0.30      0.37        10\n",
      "         HF-       0.36      0.57      0.44         7\n",
      "        HVOL       1.00      1.00      1.00         6\n",
      "\n",
      "    accuracy                           0.57        23\n",
      "   macro avg       0.62      0.62      0.61        23\n",
      "weighted avg       0.59      0.57      0.56        23\n",
      "\n"
     ]
    }
   ],
   "source": [
    "# # Place your code here\n",
    "# from sklearn.metrics import classification_report\n",
    "\n",
    "# y_pred_train = svc.predict(X_train_NFeatures)\n",
    "# print(\"On training dataset\")\n",
    "# print(classification_report(y_train,y_pred_train))\n",
    "\n",
    "# y_pred_test = svc.predict(X_test_NFeatures)\n",
    "# print(\"On testing dataset\")\n",
    "# print(classification_report(y_test,y_pred_test))"
   ]
  },
  {
   "cell_type": "code",
   "execution_count": 170,
   "id": "a9b50fff",
   "metadata": {},
   "outputs": [
    {
     "name": "stdout",
     "output_type": "stream",
     "text": [
      "HF+ HF-\n",
      "HF+ HF+\n",
      "HF+ HF-\n",
      "HF- HF-\n",
      "HF+ HF+\n",
      "HF- HF+\n",
      "HVOL HVOL\n",
      "HF- HF+\n",
      "HF- HF-\n",
      "HF- HF+\n",
      "HF- HF-\n",
      "HF+ HF-\n",
      "HF+ HF-\n",
      "HVOL HVOL\n",
      "HVOL HVOL\n",
      "HF+ HF-\n",
      "HVOL HVOL\n",
      "HVOL HVOL\n",
      "HVOL HVOL\n",
      "HF+ HF-\n",
      "HF- HF-\n",
      "HF+ HF+\n",
      "HF+ HF-\n"
     ]
    }
   ],
   "source": [
    "temp = zip(y_test,y_pred_test)\n",
    "\n",
    "for i,j in temp:\n",
    "    print(i,j)"
   ]
  },
  {
   "cell_type": "markdown",
   "id": "46e6f4ce",
   "metadata": {},
   "source": [
    "# Biological significance of features\n",
    "\n",
    "- Take the top 5 features and search for their gene names in [Gene Cards](https://www.genecards.org/) with using the suffix for example:\n",
    "  ENSG00000000419.12 -> ENSG00000000419\t\n",
    "  \n",
    "- Take the gene names identified and search in [Pubmed](https://pubmed.ncbi.nlm.nih.gov/) as \n",
    "  \"Gene name\" AND \"coronary disease\"\n",
    "  \n",
    "- Report if anything of interest is found by reading the abstract of the top hits in pubmed."
   ]
  },
  {
   "cell_type": "code",
   "execution_count": null,
   "id": "8c1bf912",
   "metadata": {},
   "outputs": [],
   "source": []
  }
 ],
 "metadata": {
  "colab": {
   "name": "AssignmentMotifDiscovery.ipynb",
   "provenance": []
  },
  "kernelspec": {
   "display_name": "Python 3.9.7 ('MIG_Course')",
   "language": "python",
   "name": "python3"
  },
  "language_info": {
   "codemirror_mode": {
    "name": "ipython",
    "version": 3
   },
   "file_extension": ".py",
   "mimetype": "text/x-python",
   "name": "python",
   "nbconvert_exporter": "python",
   "pygments_lexer": "ipython3",
   "version": "3.9.7"
  },
  "toc": {
   "base_numbering": 1,
   "nav_menu": {},
   "number_sections": true,
   "sideBar": true,
   "skip_h1_title": false,
   "title_cell": "Table of Contents",
   "title_sidebar": "Contents",
   "toc_cell": false,
   "toc_position": {},
   "toc_section_display": true,
   "toc_window_display": false
  },
  "vscode": {
   "interpreter": {
    "hash": "e768c3d2be1459e742c3cfe2e3af5b3511a9cb09be73b8345b0a9986a662beb5"
   }
  }
 },
 "nbformat": 4,
 "nbformat_minor": 5
}
